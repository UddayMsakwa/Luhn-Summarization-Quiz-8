{
 "cells": [
  {
   "cell_type": "code",
   "execution_count": 2,
   "metadata": {},
   "outputs": [
    {
     "name": "stderr",
     "output_type": "stream",
     "text": [
      "[nltk_data] Downloading package punkt to\n",
      "[nltk_data]     C:\\Users\\udday\\AppData\\Roaming\\nltk_data...\n",
      "[nltk_data]   Unzipping tokenizers\\punkt.zip.\n",
      "[nltk_data] Downloading package stopwords to\n",
      "[nltk_data]     C:\\Users\\udday\\AppData\\Roaming\\nltk_data...\n",
      "[nltk_data]   Package stopwords is already up-to-date!\n"
     ]
    },
    {
     "data": {
      "text/plain": [
       "True"
      ]
     },
     "execution_count": 2,
     "metadata": {},
     "output_type": "execute_result"
    }
   ],
   "source": [
    "import nltk\n",
    "nltk.download('punkt')      \n",
    "nltk.download('stopwords') \n"
   ]
  },
  {
   "cell_type": "code",
   "execution_count": 3,
   "metadata": {},
   "outputs": [
    {
     "name": "stderr",
     "output_type": "stream",
     "text": [
      "[nltk_data] Downloading package punkt to\n",
      "[nltk_data]     C:\\Users\\udday\\AppData\\Roaming\\nltk_data...\n",
      "[nltk_data]   Package punkt is already up-to-date!\n",
      "[nltk_data] Downloading package stopwords to\n",
      "[nltk_data]     C:\\Users\\udday\\AppData\\Roaming\\nltk_data...\n",
      "[nltk_data]   Package stopwords is already up-to-date!\n"
     ]
    },
    {
     "data": {
      "text/plain": [
       "True"
      ]
     },
     "execution_count": 3,
     "metadata": {},
     "output_type": "execute_result"
    }
   ],
   "source": [
    "import nltk\n",
    "from nltk.corpus import stopwords\n",
    "from nltk.tokenize import word_tokenize, sent_tokenize\n",
    "from collections import Counter\n",
    "import string\n",
    "\n",
    "\n",
    "nltk.download('punkt')\n",
    "nltk.download('stopwords')\n"
   ]
  },
  {
   "cell_type": "code",
   "execution_count": 4,
   "metadata": {},
   "outputs": [],
   "source": [
    "def preprocess_text(text):\n",
    "   \n",
    "    sentences = sent_tokenize(text)\n",
    "    \n",
    "    words = [word_tokenize(sentence.lower()) for sentence in sentences]\n",
    "    \n",
    "    stop_words = set(stopwords.words('english'))\n",
    "    words = [[word for word in sentence if word not in stop_words and word not in string.punctuation] for sentence in words]\n",
    "    return sentences, words\n"
   ]
  },
  {
   "cell_type": "code",
   "execution_count": 5,
   "metadata": {},
   "outputs": [],
   "source": [
    "def calculate_word_frequencies(words):\n",
    "  \n",
    "    all_words = [word for sentence in words for word in sentence]\n",
    "    word_freq = Counter(all_words)\n",
    "    return word_freq\n"
   ]
  },
  {
   "cell_type": "code",
   "execution_count": 6,
   "metadata": {},
   "outputs": [],
   "source": [
    "def identify_significant_words(word_freq, threshold=1):\n",
    "  \n",
    "    significant_words = {word for word, freq in word_freq.items() if freq > threshold}\n",
    "    return significant_words\n"
   ]
  },
  {
   "cell_type": "code",
   "execution_count": 7,
   "metadata": {},
   "outputs": [],
   "source": [
    "def score_sentences(sentences, words, significant_words):\n",
    "    sentence_scores = []\n",
    "    for i, sentence_words in enumerate(words):\n",
    "       \n",
    "        clusters = []\n",
    "        cluster = []\n",
    "        for word in sentence_words:\n",
    "            if word in significant_words:\n",
    "                cluster.append(word)\n",
    "            else:\n",
    "                if cluster:\n",
    "                    clusters.append(cluster)\n",
    "                    cluster = []\n",
    "        if cluster:\n",
    "            clusters.append(cluster)\n",
    "       \n",
    "        score = sum(len(cluster)**2 for cluster in clusters)\n",
    "        sentence_scores.append((score, sentences[i]))\n",
    "    return sentence_scores\n"
   ]
  },
  {
   "cell_type": "code",
   "execution_count": 8,
   "metadata": {},
   "outputs": [],
   "source": [
    "def luhn_summarize(text, summary_length=3, threshold=1):\n",
    "    sentences, words = preprocess_text(text)\n",
    "    word_freq = calculate_word_frequencies(words)\n",
    "    significant_words = identify_significant_words(word_freq, threshold)\n",
    "    sentence_scores = score_sentences(sentences, words, significant_words)\n",
    "    \n",
    "    ranked_sentences = sorted(sentence_scores, key=lambda x: x[0], reverse=True)\n",
    "    \n",
    "    summary = ' '.join([sentence for score, sentence in ranked_sentences[:summary_length]])\n",
    "    return summary\n"
   ]
  }
 ],
 "metadata": {
  "kernelspec": {
   "display_name": "Python 3",
   "language": "python",
   "name": "python3"
  },
  "language_info": {
   "codemirror_mode": {
    "name": "ipython",
    "version": 3
   },
   "file_extension": ".py",
   "mimetype": "text/x-python",
   "name": "python",
   "nbconvert_exporter": "python",
   "pygments_lexer": "ipython3",
   "version": "3.10.3"
  }
 },
 "nbformat": 4,
 "nbformat_minor": 2
}
